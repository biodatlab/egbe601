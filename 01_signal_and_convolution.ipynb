{
 "cells": [
  {
   "cell_type": "markdown",
   "id": "historical-cruise",
   "metadata": {},
   "source": [
    "## **Moving Average**"
   ]
  },
  {
   "cell_type": "code",
   "execution_count": null,
   "id": "intensive-pioneer",
   "metadata": {},
   "outputs": [],
   "source": [
    "import numpy as np\n",
    "import matplotlib.pyplot as plt\n",
    "\n",
    "plt.rcParams['figure.figsize'] = [10, 6]"
   ]
  },
  {
   "cell_type": "code",
   "execution_count": null,
   "id": "7daad56a",
   "metadata": {},
   "outputs": [],
   "source": [
    "# Generate a time vector\n",
    "t = np.linspace(0, 5*np.pi, 1000)\n",
    "\n",
    "# Generate a clean sine signal\n",
    "clean_signal = np.sin(t)\n",
    "\n",
    "# Add noise to the sine signal\n",
    "noise = np.random.normal(0, 0.5, 1000)  # Adjust the mean and standard deviation for desired noise level\n",
    "noisy_signal = clean_signal + noise\n",
    "\n",
    "# Define the window size for the moving average\n",
    "window_size = 20\n",
    "\n",
    "# Perform moving average\n",
    "moving_average = np.convolve(noisy_signal, np.ones(window_size)/window_size, mode='valid')\n",
    "\n",
    "# Plot the signals\n",
    "plt.figure(figsize=(10, 6))\n",
    "\n",
    "plt.subplot(2, 1, 1)\n",
    "plt.plot(t, noisy_signal, label='Noisy Signal')\n",
    "plt.plot(t, clean_signal, label='Clean Signal', linestyle='--')\n",
    "plt.title('Noisy Signal with Clean Signal (Sine Wave)')\n",
    "plt.xlabel('Time')\n",
    "plt.ylabel('Amplitude')\n",
    "plt.legend()\n",
    "\n",
    "plt.subplot(2, 1, 2)\n",
    "plt.plot(t[:-window_size+1], moving_average, label='Moving Average')\n",
    "plt.title('Moving Average of Noisy Signal')\n",
    "plt.xlabel('Time')\n",
    "plt.ylabel('Amplitude')\n",
    "plt.legend()\n",
    "\n",
    "plt.tight_layout()\n",
    "plt.show()"
   ]
  },
  {
   "cell_type": "markdown",
   "id": "57abc23f",
   "metadata": {},
   "source": [
    "## Convolution between square wave signal and triangular wave signal"
   ]
  },
  {
   "cell_type": "code",
   "execution_count": null,
   "id": "defined-payment",
   "metadata": {},
   "outputs": [],
   "source": [
    "t = np.linspace(0, 1, 1000, endpoint=False)  # Time axis from 0 to 1 sec\n",
    "frequency = 5  # 5 Hz frequency\n",
    "square_wave = np.where(np.sin(2 * np.pi * frequency * t) >= 0, 1, -1)\n",
    "\n",
    "# Signal 2: Triangular Wave\n",
    "triangular_wave = np.abs(np.mod(t, 1) - 0.5) * 4 - 1"
   ]
  },
  {
   "cell_type": "code",
   "execution_count": null,
   "id": "a033bb13",
   "metadata": {},
   "outputs": [],
   "source": [
    "plt.subplot(2, 1, 1)\n",
    "plt.plot(t, square_wave, label='Square Wave')\n",
    "plt.title('Generated Signals')\n",
    "plt.xlabel('Time')\n",
    "plt.ylabel('Amplitude')\n",
    "plt.legend()\n",
    "\n",
    "plt.subplot(2, 1, 2)\n",
    "plt.plot(t, triangular_wave, label='Triangular Wave')\n",
    "plt.xlabel('Time')\n",
    "plt.ylabel('Amplitude')\n",
    "plt.legend()\n",
    "\n",
    "plt.tight_layout()\n",
    "plt.show()"
   ]
  },
  {
   "cell_type": "code",
   "execution_count": null,
   "id": "cddf91b6",
   "metadata": {},
   "outputs": [],
   "source": [
    "conv_result = np.convolve(square_wave, triangular_wave, mode='same') / len(square_wave)\n",
    "\n",
    "# Plot the Convolution Result\n",
    "plt.figure(figsize=(8, 5))\n",
    "plt.plot(t, conv_result, label='Convolution Result')\n",
    "plt.title('Convolution of Square and Triangular Waves')\n",
    "plt.xlabel('Time')\n",
    "plt.ylabel('Amplitude')\n",
    "plt.legend()\n",
    "plt.show()"
   ]
  },
  {
   "cell_type": "markdown",
   "id": "29e2adbd",
   "metadata": {},
   "source": [
    "## Moving average on stock market data\n",
    "\n",
    "Here, we can download a stock price using `yfinance` and using convolution to perform moving average."
   ]
  },
  {
   "cell_type": "code",
   "execution_count": null,
   "id": "1c305d82",
   "metadata": {},
   "outputs": [],
   "source": [
    "%%capture\n",
    "!pip install yfinance"
   ]
  },
  {
   "cell_type": "code",
   "execution_count": null,
   "id": "13a2b9c0",
   "metadata": {},
   "outputs": [],
   "source": [
    "import yfinance as yf\n",
    "import numpy as np\n",
    "import matplotlib.pyplot as plt"
   ]
  },
  {
   "cell_type": "code",
   "execution_count": null,
   "id": "ab16e570",
   "metadata": {},
   "outputs": [],
   "source": [
    "stock_symbol = \"AAPL\"  # Change this to the desired stock symbol\n",
    "start_date = \"2022-01-01\"\n",
    "end_date = \"2023-01-01\"\n",
    "\n",
    "# Fetch historical stock data using yfinance\n",
    "stock_data = yf.download(stock_symbol, start=start_date, end=end_date)\n",
    "\n",
    "# Extract the 'Close' prices\n",
    "close_prices = stock_data['Close'].values"
   ]
  },
  {
   "cell_type": "code",
   "execution_count": null,
   "id": "f974a380",
   "metadata": {},
   "outputs": [],
   "source": [
    "def moving_average(data, window_size):\n",
    "    # Create the moving average kernel\n",
    "    kernel = np.ones(window_size) / window_size\n",
    "\n",
    "    # Apply the moving average using np.convolve\n",
    "    moving_avg = np.convolve(data, kernel, mode='valid')\n",
    "    return moving_avg\n",
    "\n",
    "# Define the window size for the moving average\n",
    "window_size = 10  # You can adjust this value as needed\n",
    "\n",
    "# Compute the moving average\n",
    "moving_avg_result = moving_average(close_prices, window_size)"
   ]
  },
  {
   "cell_type": "code",
   "execution_count": null,
   "id": "b094cb2a",
   "metadata": {},
   "outputs": [],
   "source": [
    "# Plotting original stock prices and moving average\n",
    "plt.figure(figsize=(10, 6))\n",
    "plt.plot(close_prices, label='Original Prices', alpha=0.7)\n",
    "plt.plot(np.arange(window_size - 1, len(close_prices)), moving_avg_result, label=f'{window_size}-day Moving Average')\n",
    "\n",
    "plt.title(f'{stock_symbol} Stock Prices and Moving Average')\n",
    "plt.xlabel('Days')\n",
    "plt.ylabel('Price')\n",
    "plt.legend()\n",
    "plt.grid(True)\n",
    "plt.show()"
   ]
  },
  {
   "cell_type": "markdown",
   "id": "dbcd9ed5",
   "metadata": {},
   "source": [
    "## Convolution can be done in 2D signal (image)"
   ]
  },
  {
   "cell_type": "code",
   "execution_count": null,
   "id": "1aa8e676",
   "metadata": {},
   "outputs": [],
   "source": [
    "import requests\n",
    "import cv2\n",
    "import numpy as np\n",
    "from matplotlib import pyplot as plt\n",
    "\n",
    "# Function to download an image from a URL\n",
    "def download_image(url, filename):\n",
    "    response = requests.get(url)\n",
    "    if response.status_code == 200:\n",
    "        with open(filename, 'wb') as f:\n",
    "            f.write(response.content)\n",
    "        return True\n",
    "    else:\n",
    "        return False\n",
    "\n",
    "# Download a cat photo (or any image) from a URL\n",
    "cat_image_url = 'https://placekitten.com/500/500'  # Change the URL to your desired image\n",
    "downloaded_image = 'cat_image.jpg'\n",
    "download_image(cat_image_url, downloaded_image)\n",
    "\n",
    "# Read the downloaded image using OpenCV\n",
    "image = cv2.imread(downloaded_image)\n",
    "\n",
    "# Convert the image to grayscale\n",
    "gray_image = cv2.cvtColor(image, cv2.COLOR_BGR2GRAY)\n",
    "\n",
    "# Define edge detection and blur kernels\n",
    "edge_kernel = np.array([[1, 1, 1], [1, -8, 1], [1, 1, 1]])\n",
    "blur_kernel = np.ones((5, 5), np.float32) / 25  # Change the kernel size for different blur effects\n",
    "\n",
    "# Apply convolution for edge detection\n",
    "edge_detected = cv2.filter2D(gray_image, -1, edge_kernel)\n",
    "\n",
    "# Apply convolution for blurring\n",
    "blurred_image = cv2.filter2D(image, -1, blur_kernel)\n",
    "\n",
    "# Display the images\n",
    "plt.figure(figsize=(10, 6))\n",
    "\n",
    "plt.subplot(2, 2, 1)\n",
    "plt.imshow(cv2.cvtColor(image, cv2.COLOR_BGR2RGB))\n",
    "plt.title('Original Image')\n",
    "plt.axis('off')\n",
    "\n",
    "plt.subplot(2, 2, 2)\n",
    "plt.imshow(gray_image, cmap='gray')\n",
    "plt.title('Grayscale Image')\n",
    "plt.axis('off')\n",
    "\n",
    "plt.subplot(2, 2, 3)\n",
    "plt.imshow(edge_detected, cmap='gray')\n",
    "plt.title('Edge Detected Image')\n",
    "plt.axis('off')\n",
    "\n",
    "plt.subplot(2, 2, 4)\n",
    "plt.imshow(cv2.cvtColor(blurred_image, cv2.COLOR_BGR2RGB))\n",
    "plt.title('Blurred Image')\n",
    "plt.axis('off')\n",
    "\n",
    "plt.tight_layout()\n",
    "plt.show()"
   ]
  }
 ],
 "metadata": {
  "kernelspec": {
   "display_name": "Python 3",
   "language": "python",
   "name": "python3"
  },
  "language_info": {
   "codemirror_mode": {
    "name": "ipython",
    "version": 3
   },
   "file_extension": ".py",
   "mimetype": "text/x-python",
   "name": "python",
   "nbconvert_exporter": "python",
   "pygments_lexer": "ipython3",
   "version": "3.7.4"
  }
 },
 "nbformat": 4,
 "nbformat_minor": 5
}
