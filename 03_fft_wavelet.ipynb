{
 "cells": [
  {
   "cell_type": "markdown",
   "metadata": {},
   "source": [
    "## Comparing FFT with Wavelet Transform for Human Activity Dataset"
   ]
  },
  {
   "cell_type": "code",
   "execution_count": null,
   "metadata": {},
   "outputs": [],
   "source": [
    "import numpy as np\n",
    "import matplotlib.pyplot as plt\n",
    "import pywt  # For Wavelet Transform"
   ]
  },
  {
   "cell_type": "code",
   "execution_count": null,
   "metadata": {},
   "outputs": [],
   "source": [
    "# Generate synthetic accelerometer data\n",
    "t = np.linspace(0, 10, 1000)  # Time axis (10 seconds with 1000 samples)\n",
    "# Simulated data for human activity\n",
    "acceleration = np.sin(2 * np.pi * 1 * t) + np.sin(2 * np.pi * 5 * t) + np.random.randn(len(t)) * 0.5"
   ]
  },
  {
   "cell_type": "code",
   "execution_count": null,
   "metadata": {},
   "outputs": [],
   "source": [
    "# Compute FFT\n",
    "fft_result = np.fft.fft(acceleration)\n",
    "frequencies = np.fft.fftfreq(len(acceleration), t[1] - t[0])\n",
    "\n",
    "# Plot FFT\n",
    "plt.figure(figsize=(8, 4))\n",
    "plt.plot(frequencies[:len(frequencies)//2], np.abs(fft_result)[:len(frequencies)//2])\n",
    "plt.title('FFT Analysis')\n",
    "plt.xlabel('Frequency (Hz)')\n",
    "plt.ylabel('Amplitude')\n",
    "plt.show()"
   ]
  },
  {
   "cell_type": "code",
   "execution_count": null,
   "metadata": {},
   "outputs": [],
   "source": [
    "# Perform Wavelet Transform (using db2 wavelet as an example)\n",
    "wavelet = 'db2'\n",
    "coefficients, frequencies = pywt.cwt(acceleration, np.arange(1, 128), wavelet)\n",
    "\n",
    "# Plot Wavelet Transform\n",
    "plt.figure(figsize=(8, 4))\n",
    "plt.imshow(np.abs(coefficients), aspect='auto', extent=[0, len(t), 1, 128], cmap='viridis')\n",
    "plt.colorbar(label='Magnitude')\n",
    "plt.title('Wavelet Transform Analysis')\n",
    "plt.xlabel('Time')\n",
    "plt.ylabel('Scale (Frequency)')\n",
    "plt.show()"
   ]
  }
 ],
 "metadata": {
  "language_info": {
   "name": "python"
  }
 },
 "nbformat": 4,
 "nbformat_minor": 2
}
