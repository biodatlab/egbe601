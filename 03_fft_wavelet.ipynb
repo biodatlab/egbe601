{
 "cells": [
  {
   "cell_type": "markdown",
   "metadata": {},
   "source": [
    "## Comparing FFT with Wavelet Transform for Simulated Human Activity Data"
   ]
  },
  {
   "cell_type": "code",
   "execution_count": null,
   "metadata": {},
   "outputs": [],
   "source": [
    "%%capture\n",
    "!pip install PyWavelets"
   ]
  },
  {
   "cell_type": "code",
   "execution_count": null,
   "metadata": {},
   "outputs": [],
   "source": [
    "import numpy as np\n",
    "import matplotlib.pyplot as plt\n",
    "import pywt  # For Wavelet Transform"
   ]
  },
  {
   "cell_type": "code",
   "execution_count": null,
   "metadata": {},
   "outputs": [],
   "source": [
    "# Generate synthetic accelerometer data\n",
    "t = np.linspace(0, 10, 1000)  # Time axis (10 seconds with 1000 samples)\n",
    "# Simulated data for human activity\n",
    "signal = np.sin(2 * np.pi * 1 * t) + np.sin(2 * np.pi * 5 * t) + np.random.randn(len(t)) * 0.5"
   ]
  },
  {
   "cell_type": "code",
   "execution_count": null,
   "metadata": {},
   "outputs": [],
   "source": [
    "plt.plot(t, signal)\n",
    "plt.xlabel(\"t\")\n",
    "plt.ylabel(\"amplitude\")\n",
    "plt.show()"
   ]
  },
  {
   "cell_type": "code",
   "execution_count": null,
   "metadata": {},
   "outputs": [],
   "source": [
    "# Compute FFT\n",
    "fft_result = np.fft.fft(signal)\n",
    "frequencies = np.fft.fftfreq(len(signal), t[1] - t[0])\n",
    "\n",
    "# Plot FFT\n",
    "plt.figure(figsize=(8, 4))\n",
    "plt.plot(frequencies[:len(frequencies)//2], np.abs(fft_result)[:len(frequencies)//2])\n",
    "plt.title('FFT Analysis')\n",
    "plt.xlabel('Frequency (Hz)')\n",
    "plt.ylabel('Amplitude')\n",
    "plt.show()"
   ]
  },
  {
   "cell_type": "code",
   "execution_count": null,
   "metadata": {},
   "outputs": [],
   "source": [
    "import pywt\n",
    "import numpy as np\n",
    "import matplotlib.pyplot as plt\n",
    "\n",
    "# Perform DWT\n",
    "coefficients = pywt.wavedec(signal, 'db1')  # 'db1' is Daubechies wavelet\n",
    "trimmed_coefficients = [coef if i <= 7 else np.zeros(len(coef))\n",
    "                        for i, coef in enumerate(coefficients)]\n",
    "print([len(coef) for coef in coefficients])"
   ]
  },
  {
   "cell_type": "code",
   "execution_count": null,
   "metadata": {},
   "outputs": [],
   "source": [
    "# Reconstruction using trimmed coefficients\n",
    "reconstructed_signal = pywt.waverec(trimmed_coefficients, 'db1')\n",
    "\n",
    "# Plot original vs reconstructed signal\n",
    "plt.figure(figsize=(10, 6))\n",
    "plt.subplot(2, 1, 1)\n",
    "plt.plot(t, signal)\n",
    "plt.title('Original Signal')\n",
    "\n",
    "plt.subplot(2, 1, 2)\n",
    "plt.plot(t, reconstructed_signal[:len(signal)])\n",
    "plt.title('Reconstructed Signal (Using Trimmed Coefficients)')\n",
    "plt.tight_layout()\n",
    "plt.show()"
   ]
  }
 ],
 "metadata": {
  "language_info": {
   "name": "python"
  }
 },
 "nbformat": 4,
 "nbformat_minor": 2
}
