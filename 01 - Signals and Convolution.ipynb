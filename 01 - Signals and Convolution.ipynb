{
 "cells": [
  {
   "cell_type": "markdown",
   "id": "historical-cruise",
   "metadata": {},
   "source": [
    "## **Moving Average**"
   ]
  },
  {
   "cell_type": "code",
   "execution_count": null,
   "id": "intensive-pioneer",
   "metadata": {},
   "outputs": [],
   "source": [
    "import numpy as np\n",
    "import matplotlib.pyplot as plt"
   ]
  },
  {
   "cell_type": "code",
   "execution_count": null,
   "id": "vital-permit",
   "metadata": {},
   "outputs": [],
   "source": [
    "n = 100\n",
    "T = 20 # period\n",
    "alpha = 0.3\n",
    "h1 = np.array([1, 1]) / 2\n",
    "h2 = np.array([1, 1, 1]) / 3\n",
    "x = np.sin(2 * np.pi * np.arange(n) / T)\n",
    "x_noise = x + (alpha * np.random.randn(n))"
   ]
  },
  {
   "cell_type": "code",
   "execution_count": null,
   "id": "coordinate-brain",
   "metadata": {},
   "outputs": [],
   "source": [
    "x = np.sin(2 * np.pi * np.arange(100) / 20)\n",
    "plt.plot(x)\n",
    "plt.plot(x_noise)"
   ]
  },
  {
   "cell_type": "code",
   "execution_count": null,
   "id": "brief-jimmy",
   "metadata": {},
   "outputs": [],
   "source": [
    "x_conv1 = np.convolve(x_noise, h1, 'same')\n",
    "x_conv2 = np.convolve(x_noise, h2, 'same')\n",
    "plt.plot(x)\n",
    "plt.plot(x_conv1)\n",
    "plt.plot(x_conv2)\n",
    "plt.show()"
   ]
  },
  {
   "cell_type": "code",
   "execution_count": null,
   "id": "defined-payment",
   "metadata": {},
   "outputs": [],
   "source": []
  }
 ],
 "metadata": {
  "kernelspec": {
   "display_name": "Python 3",
   "language": "python",
   "name": "python3"
  },
  "language_info": {
   "codemirror_mode": {
    "name": "ipython",
    "version": 3
   },
   "file_extension": ".py",
   "mimetype": "text/x-python",
   "name": "python",
   "nbconvert_exporter": "python",
   "pygments_lexer": "ipython3",
   "version": "3.7.4"
  }
 },
 "nbformat": 4,
 "nbformat_minor": 5
}
