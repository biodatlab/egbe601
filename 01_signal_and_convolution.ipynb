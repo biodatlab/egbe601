{
 "cells": [
  {
   "cell_type": "markdown",
   "id": "historical-cruise",
   "metadata": {},
   "source": [
    "## **Moving Average**"
   ]
  },
  {
   "cell_type": "code",
   "execution_count": null,
   "id": "intensive-pioneer",
   "metadata": {},
   "outputs": [],
   "source": [
    "import numpy as np\n",
    "import matplotlib.pyplot as plt\n",
    "\n",
    "plt.rcParams['figure.figsize'] = [10, 6]"
   ]
  },
  {
   "cell_type": "code",
   "execution_count": null,
   "id": "vital-permit",
   "metadata": {},
   "outputs": [],
   "source": [
    "n = 100\n",
    "T = 20 # period\n",
    "alpha = 0.3\n",
    "h1 = np.array([1, 1]) / 2\n",
    "h2 = np.array([1, 1, 1]) / 3\n",
    "x = np.sin(2 * np.pi * np.arange(n) / T)\n",
    "x_noise = x + (alpha * np.random.randn(n))"
   ]
  },
  {
   "cell_type": "code",
   "execution_count": null,
   "id": "coordinate-brain",
   "metadata": {},
   "outputs": [],
   "source": [
    "x = np.sin(2 * np.pi * np.arange(100) / 20)\n",
    "plt.plot(x)\n",
    "plt.plot(x_noise)"
   ]
  },
  {
   "cell_type": "code",
   "execution_count": null,
   "id": "brief-jimmy",
   "metadata": {},
   "outputs": [],
   "source": [
    "x_conv1 = np.convolve(x_noise, h1, 'same')\n",
    "x_conv2 = np.convolve(x_noise, h2, 'same')\n",
    "plt.plot(x)\n",
    "plt.plot(x_conv1)\n",
    "plt.plot(x_conv2)\n",
    "plt.show()"
   ]
  },
  {
   "cell_type": "markdown",
   "id": "57abc23f",
   "metadata": {},
   "source": [
    "## Convolution between square wave signal and triangular wave signal"
   ]
  },
  {
   "cell_type": "code",
   "execution_count": null,
   "id": "defined-payment",
   "metadata": {},
   "outputs": [],
   "source": [
    "t = np.linspace(0, 1, 1000, endpoint=False)  # Time axis from 0 to 1 sec\n",
    "frequency = 5  # 5 Hz frequency\n",
    "square_wave = np.where(np.sin(2 * np.pi * frequency * t) >= 0, 1, -1)\n",
    "\n",
    "# Signal 2: Triangular Wave\n",
    "triangular_wave = np.abs(np.mod(t, 1) - 0.5) * 4 - 1"
   ]
  },
  {
   "cell_type": "code",
   "execution_count": null,
   "id": "a033bb13",
   "metadata": {},
   "outputs": [],
   "source": [
    "plt.subplot(2, 1, 1)\n",
    "plt.plot(t, square_wave, label='Square Wave')\n",
    "plt.title('Generated Signals')\n",
    "plt.xlabel('Time')\n",
    "plt.ylabel('Amplitude')\n",
    "plt.legend()\n",
    "\n",
    "plt.subplot(2, 1, 2)\n",
    "plt.plot(t, triangular_wave, label='Triangular Wave')\n",
    "plt.xlabel('Time')\n",
    "plt.ylabel('Amplitude')\n",
    "plt.legend()\n",
    "\n",
    "plt.tight_layout()\n",
    "plt.show()"
   ]
  },
  {
   "cell_type": "code",
   "execution_count": null,
   "id": "cddf91b6",
   "metadata": {},
   "outputs": [],
   "source": [
    "conv_result = np.convolve(square_wave, triangular_wave, mode='same') / len(square_wave)\n",
    "\n",
    "# Plot the Convolution Result\n",
    "plt.figure(figsize=(8, 5))\n",
    "plt.plot(t, conv_result, label='Convolution Result')\n",
    "plt.title('Convolution of Square and Triangular Waves')\n",
    "plt.xlabel('Time')\n",
    "plt.ylabel('Amplitude')\n",
    "plt.legend()\n",
    "plt.show()"
   ]
  },
  {
   "cell_type": "markdown",
   "id": "29e2adbd",
   "metadata": {},
   "source": [
    "## Moving average on stock market"
   ]
  },
  {
   "cell_type": "code",
   "execution_count": null,
   "id": "1c305d82",
   "metadata": {},
   "outputs": [],
   "source": [
    "%%capture\n",
    "!pip install yfinance"
   ]
  },
  {
   "cell_type": "code",
   "execution_count": null,
   "id": "13a2b9c0",
   "metadata": {},
   "outputs": [],
   "source": [
    "import yfinance as yf\n",
    "import numpy as np\n",
    "import matplotlib.pyplot as plt"
   ]
  },
  {
   "cell_type": "code",
   "execution_count": null,
   "id": "ab16e570",
   "metadata": {},
   "outputs": [],
   "source": [
    "stock_symbol = \"AAPL\"  # Change this to the desired stock symbol\n",
    "start_date = \"2022-01-01\"\n",
    "end_date = \"2023-01-01\"\n",
    "\n",
    "# Fetch historical stock data using yfinance\n",
    "stock_data = yf.download(stock_symbol, start=start_date, end=end_date)\n",
    "\n",
    "# Extract the 'Close' prices\n",
    "close_prices = stock_data['Close'].values"
   ]
  },
  {
   "cell_type": "code",
   "execution_count": null,
   "id": "f974a380",
   "metadata": {},
   "outputs": [],
   "source": [
    "def moving_average(data, window_size):\n",
    "    # Create the moving average kernel\n",
    "    kernel = np.ones(window_size) / window_size\n",
    "\n",
    "    # Apply the moving average using np.convolve\n",
    "    moving_avg = np.convolve(data, kernel, mode='valid')\n",
    "    return moving_avg\n",
    "\n",
    "# Define the window size for the moving average\n",
    "window_size = 10  # You can adjust this value as needed\n",
    "\n",
    "# Compute the moving average\n",
    "moving_avg_result = moving_average(close_prices, window_size)"
   ]
  },
  {
   "cell_type": "code",
   "execution_count": null,
   "id": "b094cb2a",
   "metadata": {},
   "outputs": [],
   "source": [
    "# Plotting original stock prices and moving average\n",
    "plt.figure(figsize=(10, 6))\n",
    "plt.plot(close_prices, label='Original Prices', alpha=0.7)\n",
    "plt.plot(np.arange(window_size - 1, len(close_prices)), moving_avg_result, label=f'{window_size}-day Moving Average')\n",
    "\n",
    "plt.title(f'{stock_symbol} Stock Prices and Moving Average')\n",
    "plt.xlabel('Days')\n",
    "plt.ylabel('Price')\n",
    "plt.legend()\n",
    "plt.grid(True)\n",
    "plt.show()"
   ]
  }
 ],
 "metadata": {
  "kernelspec": {
   "display_name": "Python 3",
   "language": "python",
   "name": "python3"
  },
  "language_info": {
   "codemirror_mode": {
    "name": "ipython",
    "version": 3
   },
   "file_extension": ".py",
   "mimetype": "text/x-python",
   "name": "python",
   "nbconvert_exporter": "python",
   "pygments_lexer": "ipython3",
   "version": "3.7.4"
  }
 },
 "nbformat": 4,
 "nbformat_minor": 5
}
