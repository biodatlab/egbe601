{
  "cells": [
    {
      "cell_type": "markdown",
      "metadata": {
        "id": "7kT1D6IPSGQF"
      },
      "source": [
        "## Deniosing Data with FFT\n",
        "\n",
        "- Reference: https://www.kaggle.com/code/faressayah/signal-processing-with-python"
      ]
    },
    {
      "cell_type": "code",
      "execution_count": null,
      "metadata": {
        "id": "ZDYmqIMORtNH"
      },
      "outputs": [],
      "source": [
        "import numpy as np\n",
        "import matplotlib.pyplot as plt\n",
        "\n",
        "plt.rcParams['figure.figsize'] = [10, 6]"
      ]
    },
    {
      "cell_type": "code",
      "execution_count": null,
      "metadata": {
        "colab": {
          "background_save": true
        },
        "id": "2d9YabgiRo6c"
      },
      "outputs": [],
      "source": [
        "# Create synthetic signal\n",
        "dt = 0.001\n",
        "t = np.arange(0, 1, dt)\n",
        "signal = np.sin(2 * np.pi * 50 * t) + np.sin(2 * np.pi * 120 * t) # Sum of 2 Sequencies\n",
        "signal_clean = signal\n",
        "signal = signal + 2.5 * np.random.randn(len(t)) # Add some noise\n",
        "min_signal, max_signal = signal.min(), signal.max()"
      ]
    },
    {
      "cell_type": "code",
      "execution_count": null,
      "metadata": {
        "id": "Y8dRVNfeRyMV"
      },
      "outputs": [],
      "source": [
        "plt.plot(t, signal, color='c', linewidth=1.5, label='Noisy')\n",
        "plt.plot(t, signal_clean, color='k', linewidth=2, label='Clean')\n",
        "plt.xlim(t[0], t[-1])\n",
        "plt.xlabel('t axis')\n",
        "plt.ylabel('Vals')\n",
        "plt.legend()"
      ]
    },
    {
      "cell_type": "code",
      "execution_count": null,
      "metadata": {
        "id": "IrvRGKOjRzeL"
      },
      "outputs": [],
      "source": [
        "# Compute the Fast Fourier Transform (FFT)\n",
        "\n",
        "n = len(t)\n",
        "fhat = np.fft.fft(signal, n)                 # Compute the FFT\n",
        "psd = fhat * np.conj(fhat) / n\n",
        "freq = (1 / (dt * n)) * np.arange(n)    # frequency array\n",
        "idxs_half = np.arange(1, np.floor(n / 2), dtype=np.int32)  # first half index"
      ]
    },
    {
      "cell_type": "code",
      "execution_count": null,
      "metadata": {
        "id": "mIsCZy7ER4nI"
      },
      "outputs": [],
      "source": [
        "fig, axs = plt.subplots(2, 1)\n",
        "\n",
        "plt.sca(axs[0])\n",
        "plt.plot(t, signal, color='c', linewidth=1.5, label='Noisy')\n",
        "plt.plot(t, signal_clean, color='k', linewidth=2, label='Clean')\n",
        "plt.xlim(t[0], t[-1])\n",
        "plt.xlabel('t axis')\n",
        "plt.ylabel('Vals')\n",
        "plt.legend()\n",
        "\n",
        "plt.sca(axs[1])\n",
        "plt.plot(freq[idxs_half], psd[idxs_half], color='c', linewidth=2, label='PSD Noisy')\n",
        "plt.xlim(freq[idxs_half[0]], freq[idxs_half[-1]])\n",
        "plt.xlabel('t axis')\n",
        "plt.ylabel('Vals')\n",
        "plt.legend()\n",
        "\n",
        "plt.tight_layout()"
      ]
    },
    {
      "cell_type": "code",
      "execution_count": null,
      "metadata": {
        "id": "xGGAnfevR6zE"
      },
      "outputs": [],
      "source": [
        "threshold = 100\n",
        "psd_idxs = psd > threshold # array of 0 and 1\n",
        "psd_clean = psd * psd_idxs # zero out all the unnecessary powers\n",
        "fhat_clean = psd_idxs * fhat # used to retreive the signal\n",
        "\n",
        "signal_filtered = np.fft.ifft(fhat_clean) # inverse fourier transform"
      ]
    },
    {
      "cell_type": "code",
      "execution_count": null,
      "metadata": {
        "id": "eeNiAJSdR95z"
      },
      "outputs": [],
      "source": [
        "# plt.rcParams['figure.figsize'] = [8,10]\n",
        "fig, axs = plt.subplots(4, 1)\n",
        "\n",
        "plt.sca(axs[0])\n",
        "plt.plot(t, signal, color='b', linewidth=0.5, label='Noisy')\n",
        "plt.plot(t, signal_clean, color='r', linewidth=1, label='Clean')\n",
        "plt.ylim(min_signal, max_signal)\n",
        "plt.xlabel('t axis')\n",
        "plt.ylabel('Vals')\n",
        "plt.legend()\n",
        "\n",
        "plt.sca(axs[1])\n",
        "plt.plot(freq[idxs_half], np.abs(psd[idxs_half]), color='b', linewidth=0.5, label='PSD noisy')\n",
        "plt.xlabel('Frequencies in Hz')\n",
        "plt.ylabel('Amplitude')\n",
        "plt.legend()\n",
        "\n",
        "plt.sca(axs[2])\n",
        "plt.plot(freq[idxs_half], np.abs(psd_clean[idxs_half]), color='r', linewidth=1, label='PSD clean')\n",
        "plt.xlabel('Frequencies in Hz')\n",
        "plt.ylabel('Amplitude')\n",
        "plt.legend()\n",
        "\n",
        "plt.sca(axs[3])\n",
        "plt.plot(t, signal_filtered, color='r', linewidth=1, label='Clean Signal Retrieved')\n",
        "plt.xlim(t[0], t[-1])\n",
        "plt.ylim(min_signal, max_signal)\n",
        "plt.xlabel('t axis')\n",
        "plt.ylabel('Vals')\n",
        "plt.legend()\n",
        "\n",
        "plt.tight_layout()"
      ]
    },
    {
      "cell_type": "markdown",
      "metadata": {
        "id": "ME1nhDXJSRVE"
      },
      "source": [
        "## Spectrogram"
      ]
    },
    {
      "cell_type": "code",
      "execution_count": null,
      "metadata": {
        "id": "akkvM4HySBfX"
      },
      "outputs": [],
      "source": [
        "dt = 0.001\n",
        "t = np.arange(0, 2, dt)\n",
        "f0 = 50\n",
        "f1 = 250\n",
        "t1 = 2\n",
        "x = np.cos(2 * np.pi * t * (f1 - f0) * np.power(t, 2) / (3 * t1 ** 2))\n",
        "\n",
        "fs = 1 / dt\n",
        "\n",
        "# plt.rcParams['figure.figsize'] = [8,6]\n",
        "plt.figure(figsize=(8, 8))\n",
        "\n",
        "plt.subplot(2, 2, 1)\n",
        "plt.specgram(x, NFFT=128, Fs=1/dt, noverlap=120, cmap='jet_r')\n",
        "plt.xlabel('Time')\n",
        "plt.ylabel('Frequency')\n",
        "plt.colorbar()"
      ]
    },
    {
      "cell_type": "code",
      "execution_count": null,
      "metadata": {
        "id": "xpVddcfVSS00"
      },
      "outputs": [],
      "source": [
        "plt.plot(t, x)\n",
        "plt.xlabel(\"Time\")\n",
        "plt.ylabel(\"Amplitude\")\n",
        "plt.show()"
      ]
    },
    {
      "cell_type": "markdown",
      "metadata": {
        "id": "Q4w5T9oES5ZF"
      },
      "source": [
        "## Compress image using FFT"
      ]
    },
    {
      "cell_type": "code",
      "execution_count": null,
      "metadata": {
        "id": "NUgOPAaCSgA6"
      },
      "outputs": [],
      "source": [
        "import cv2"
      ]
    },
    {
      "cell_type": "code",
      "execution_count": null,
      "metadata": {
        "id": "P7NaN-KvTkeB"
      },
      "outputs": [],
      "source": [
        "!wget https://radiologypics.files.wordpress.com/2013/01/left-sided-ivc-2.jpg sample.jpg"
      ]
    },
    {
      "cell_type": "code",
      "execution_count": null,
      "metadata": {
        "id": "Fjo8c9zLUmqt"
      },
      "outputs": [],
      "source": [
        "img = cv2.imread(\"left-sided-ivc-2.jpg\", 0)\n",
        "plt.imshow(img, cmap=\"gray\")\n",
        "plt.xticks([]), plt.yticks([])  # remove tick marks\n",
        "plt.show()"
      ]
    },
    {
      "cell_type": "code",
      "execution_count": null,
      "metadata": {
        "id": "-DQfmT7kUwqn"
      },
      "outputs": [],
      "source": [
        "f = np.fft.fft2(img)  #the image 'img' is passed to np.fft.fft2() to compute its 2D Discrete Fourier transform f\n",
        "mag = 20*np.log(np.abs(f))\n",
        "plt.imshow(mag, cmap = 'gray') #cmap='gray' parameter to indicate that the image should be displayed in grayscale.\n",
        "plt.title('Magnitude Spectrum')\n",
        "plt.xticks([]), plt.yticks([])\n",
        "plt.show()"
      ]
    },
    {
      "cell_type": "code",
      "execution_count": null,
      "metadata": {
        "id": "DHcokkcBU5zQ"
      },
      "outputs": [],
      "source": [
        "fshift = np.fft.fftshift(f)\n",
        "mag = 20*np.log(np.abs(fshift))\n",
        "plt.imshow(mag, cmap = 'gray')\n",
        "plt.title('Centered Spectrum'), plt.xticks([]), plt.yticks([])\n",
        "plt.show()"
      ]
    },
    {
      "cell_type": "code",
      "execution_count": null,
      "metadata": {
        "id": "ufPWjrutVAjc"
      },
      "outputs": [],
      "source": [
        "import math\n",
        "\n",
        "def calculate_distance(point1, point2):\n",
        "    return math.sqrt((point1[0]-point2[0])**2 + (point1[1]-point2[1])**2)\n",
        "\n",
        "def generate_low_pass(d0: int, im_size: tuple):\n",
        "    \"\"\"\n",
        "    Generate 2D low-pass filter from a given image size\n",
        "\n",
        "    d0: diameter of a generated a circular 0, 1\n",
        "    \"\"\"\n",
        "    base = np.zeros(im_size[:2])\n",
        "    rows, cols = im_size[:2]\n",
        "    center = (rows / 2, cols / 2)\n",
        "    for x in range(cols):\n",
        "        for y in range(rows):\n",
        "            if calculate_distance((y, x), center) < d0:\n",
        "                base[y, x] = 1\n",
        "    return base"
      ]
    },
    {
      "cell_type": "code",
      "execution_count": null,
      "metadata": {
        "id": "_eOh4OL3VQqA"
      },
      "outputs": [],
      "source": [
        "d0 = 50\n",
        "plt.imshow(np.abs(generate_low_pass(d0, img.shape)), cmap='gray')\n",
        "plt.xticks([]), plt.yticks([])\n",
        "plt.show()"
      ]
    },
    {
      "cell_type": "code",
      "execution_count": null,
      "metadata": {
        "id": "0XMkg1ApVaCo"
      },
      "outputs": [],
      "source": [
        "plt.imshow(\n",
        "    np.log(1 + np.abs(fshift * generate_low_pass(d0, img.shape))),\n",
        "    cmap='gray'\n",
        ")\n",
        "plt.xticks([]), plt.yticks([])\n",
        "plt.show()"
      ]
    },
    {
      "cell_type": "code",
      "execution_count": null,
      "metadata": {
        "id": "7Zuls1r7VruJ"
      },
      "outputs": [],
      "source": [
        "f_filtered = fshift * generate_low_pass(d0, img.shape)\n",
        "img_rec = np.fft.ifft2(np.fft.ifftshift(f_filtered))\n",
        "\n",
        "plt.imshow(np.abs(img_rec), cmap='gray')\n",
        "plt.xticks([]), plt.yticks([])\n",
        "plt.show()"
      ]
    }
  ],
  "metadata": {
    "colab": {
      "provenance": []
    },
    "kernelspec": {
      "display_name": "Python 3",
      "name": "python3"
    },
    "language_info": {
      "name": "python"
    }
  },
  "nbformat": 4,
  "nbformat_minor": 0
}