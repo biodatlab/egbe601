{
 "cells": [
  {
   "cell_type": "markdown",
   "metadata": {},
   "source": [
    "## Perform PCA on generated data"
   ]
  },
  {
   "cell_type": "code",
   "execution_count": null,
   "metadata": {},
   "outputs": [],
   "source": [
    "import numpy as np\n",
    "import matplotlib.pyplot as plt\n",
    "from sklearn.decomposition import PCA"
   ]
  },
  {
   "cell_type": "code",
   "execution_count": null,
   "metadata": {},
   "outputs": [],
   "source": [
    "# Generate 2D data\n",
    "np.random.seed(42)\n",
    "mean = [0, 0]\n",
    "covariance = [[2, 1.5], [1.5, 1]]\n",
    "data = np.random.multivariate_normal(mean, covariance, 100)\n",
    "\n",
    "# Apply PCA\n",
    "pca = PCA(n_components=2)\n",
    "pca.fit(data)\n",
    "\n",
    "# Transform the data to its principal components\n",
    "transformed_data = pca.transform(data)\n",
    "\n",
    "# Get the principal components and eigenvalues\n",
    "components = pca.components_\n",
    "explained_var = pca.explained_variance_\n",
    "\n",
    "# Plot the original data, principal components, and transformed data\n",
    "plt.figure(figsize=(10, 5))\n",
    "\n",
    "# Plot the original 2D data\n",
    "plt.scatter(data[:, 0], data[:, 1], label='Original Data')\n",
    "plt.xlabel('Feature 1')\n",
    "plt.ylabel('Feature 2')\n",
    "\n",
    "# Plot the principal components\n",
    "for i, (explained_variance, component) in enumerate(zip(explained_var, components)):\n",
    "    plt.arrow(0, 0, np.sqrt(explained_variance) * component[0], np.sqrt(explained_variance) * component[1],\n",
    "              head_width=0.2, head_length=0.2, color='red', alpha=0.8, label=f'Principal Component {i + 1}')\n",
    "\n",
    "# Plot the transformed data in principal component space\n",
    "plt.scatter(transformed_data[:, 0], transformed_data[:, 1], label='Transformed Data')\n",
    "plt.xlabel('Principal Component 1')\n",
    "plt.ylabel('Principal Component 2')\n",
    "plt.legend()\n",
    "plt.title('Original Data, Transformed Data, and Principal Components')\n",
    "\n",
    "plt.tight_layout()\n",
    "plt.show()\n"
   ]
  },
  {
   "cell_type": "markdown",
   "metadata": {},
   "source": [
    "Other dimensionality reduction code includes MDS, tSNE, UMAP, and many more."
   ]
  },
  {
   "cell_type": "code",
   "execution_count": null,
   "metadata": {},
   "outputs": [],
   "source": [
    "import numpy as np\n",
    "import pandas as pd\n",
    "from sklearn import datasets\n",
    "from sklearn import manifold\n",
    "import matplotlib.pyplot as plt\n",
    "\n",
    "# Loading the Iris dataset\n",
    "iris = datasets.load_iris()\n",
    "X = iris.data  # Features\n",
    "y = iris.target  # Labels\n",
    "\n",
    "# Multidimensional Scaling (MDS)\n",
    "mds = manifold.MDS(n_components=2, dissimilarity='euclidean')\n",
    "X_transformed = mds.fit_transform(X)\n",
    "\n",
    "# Plotting the MDS result\n",
    "plt.figure(figsize=(8, 6))\n",
    "plt.scatter(X_transformed[:, 0], X_transformed[:, 1], c=y, cmap='viridis')\n",
    "plt.title('MDS Visualization of Iris Dataset')\n",
    "plt.xlabel('MDS Component 1')\n",
    "plt.ylabel('MDS Component 2')\n",
    "plt.colorbar(label='Species')\n",
    "plt.show()\n"
   ]
  }
 ],
 "metadata": {
  "language_info": {
   "name": "python"
  }
 },
 "nbformat": 4,
 "nbformat_minor": 2
}
