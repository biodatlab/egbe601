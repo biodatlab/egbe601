{
 "cells": [
  {
   "cell_type": "markdown",
   "id": "becoming-oklahoma",
   "metadata": {},
   "source": [
    "## Spectrogram with Librosa\n",
    "\n",
    "- Librosa provides a wide range of high-level APIs for manipulating signals\n",
    "- For EEG, MEG, sEEG, ECoG signals, you can try [MNE](https://mne.tools/stable/index.html) as an alternative.\n",
    "- Reference: from Herman Kamper's lectrure and Steve Brunton's lecture at University of Washington"
   ]
  },
  {
   "cell_type": "code",
   "execution_count": null,
   "id": "enabling-kelly",
   "metadata": {},
   "outputs": [],
   "source": [
    "import numpy as np\n",
    "import matplotlib.pyplot as plt\n",
    "import librosa\n",
    "import librosa.display\n",
    "\n",
    "plt.rcParams[\"figure.figsize\"] = [12, 6]\n",
    "plt.rcParams.update({\"font.size\": 16})"
   ]
  },
  {
   "cell_type": "code",
   "execution_count": null,
   "id": "searching-expansion",
   "metadata": {},
   "outputs": [],
   "source": [
    "# Parameters for the chirp signal\n",
    "duration = 1.0  # Duration of the signal in seconds\n",
    "sr = 22050  # Sampling rate\n",
    "f_start = 1000  # Starting frequency (Hz)\n",
    "f_end = 5000  # Ending frequency (Hz)\n",
    "\n",
    "# Create a time axis\n",
    "t = np.linspace(0, duration, int(sr * duration), endpoint=False)\n",
    "\n",
    "# Generate the chirp signal\n",
    "chirp_signal = librosa.chirp(\n",
    "    fmin=f_start, fmax=f_end, sr=sr, duration=duration,\n",
    "    linear=True\n",
    ")"
   ]
  },
  {
   "cell_type": "code",
   "execution_count": null,
   "id": "ee30bc22",
   "metadata": {},
   "outputs": [],
   "source": [
    "plt.figure(figsize=(8, 4))\n",
    "plt.plot(t, chirp_signal)\n",
    "plt.title('Chirp Signal')\n",
    "plt.xlabel('Time (s)')\n",
    "plt.ylabel('Amplitude')\n",
    "plt.show()"
   ]
  },
  {
   "cell_type": "code",
   "execution_count": null,
   "id": "7b311a03",
   "metadata": {},
   "outputs": [],
   "source": [
    "# Compute the spectrogram\n",
    "D = librosa.amplitude_to_db(np.abs(librosa.stft(chirp_signal)), ref=np.max)\n",
    "\n",
    "# Display the spectrogram\n",
    "plt.figure(figsize=(8, 4))\n",
    "librosa.display.specshow(D, sr=sr, x_axis='time', y_axis='linear')\n",
    "plt.colorbar(format='%+2.0f dB')\n",
    "plt.title('Spectrogram of Chirp Signal')\n",
    "plt.xlabel('Time (s)')\n",
    "plt.ylabel('Frequency (Hz)')\n",
    "plt.show()"
   ]
  }
 ],
 "metadata": {
  "kernelspec": {
   "display_name": "Python 3",
   "language": "python",
   "name": "python3"
  },
  "language_info": {
   "codemirror_mode": {
    "name": "ipython",
    "version": 3
   },
   "file_extension": ".py",
   "mimetype": "text/x-python",
   "name": "python",
   "nbconvert_exporter": "python",
   "pygments_lexer": "ipython3",
   "version": "3.7.4"
  }
 },
 "nbformat": 4,
 "nbformat_minor": 5
}
